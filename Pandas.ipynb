{
  "cells": [
    {
      "cell_type": "markdown",
      "metadata": {
        "_uuid": "21c25e4f8bb31570029fd6b069131a5d00f84cf1",
        "id": "KT_qANBiVKl3"
      },
      "source": [
        "# Домашнее задание 2 (5 баллов).\n",
        "\n",
        "Все задания ниже имеют равный вес (5/16)."
      ]
    },
    {
      "cell_type": "code",
      "source": [
        "import os \n",
        "if ('Data' not in list(os.walk(os.getcwd()))[0][1]):\n",
        "    !wget \"https://github.com/shmihmih/iad-intro-ds/raw/master/2023/homeworks/Data.zip\" \n",
        "    !unzip \"Data.zip\"\n"
      ],
      "metadata": {
        "id": "kZ85GW6QYkj8"
      },
      "execution_count": 25,
      "outputs": []
    },
    {
      "cell_type": "code",
      "execution_count": 26,
      "metadata": {
        "_uuid": "568eb2d31004b87d22e119112ae01a1e75105f1d",
        "id": "gXgmrgb6VKl7"
      },
      "outputs": [],
      "source": [
        "import pandas as pd"
      ]
    },
    {
      "cell_type": "markdown",
      "metadata": {
        "id": "CEmCcdpiVKl8"
      },
      "source": [
        "#### Описание данных\n",
        "\n",
        "В папке Data находится информация о студентах. Всего 10 групп студентов. Файлы делятся на две категории:\n",
        "    * Students_info_i - информация о студентах из группы i\n",
        "    * Students_marks_i - оценки студентов из группы i за экзамены"
      ]
    },
    {
      "cell_type": "markdown",
      "metadata": {
        "id": "ssQJeRq0VKl9"
      },
      "source": [
        "### Одно из важных достоинств pandas $-$ это удобные методы реляционного взаимодействия с данными, аналогичные, например, возможностям SQL для слияния и конкатенации таблиц: merge, join, concat. Наличие готовых методов позволяет не реализовывать самостоятельно поэлементную обработку данных и оперировать сразу целыми таблицами данных.\n",
        "\n",
        "Подробно об этих методах посмотрите тут: https://www.kaggle.com/residentmario/renaming-and-combining#Combining"
      ]
    },
    {
      "cell_type": "markdown",
      "metadata": {
        "id": "PdDAvSOxVKl-"
      },
      "source": [
        "#### Задание 1. Соберите всю информацию о студентах в одну таблицу df. В получившейся таблице должна быть информация и оценки всех студентов из всех групп. Напечатайте несколько строк таблицы для демонстрации результата.¶"
      ]
    },
    {
      "cell_type": "code",
      "execution_count": 27,
      "metadata": {
        "id": "dzsY8ku7VKl_",
        "colab": {
          "base_uri": "https://localhost:8080/"
        },
        "outputId": "76d85153-5e1e-4b1b-b5d2-5015059ce1f2"
      },
      "outputs": [
        {
          "output_type": "stream",
          "name": "stdout",
          "text": [
            "   index  gender race/ethnicity parental level of education         lunch  \\\n",
            "0      0  female        group B           bachelor's degree      standard   \n",
            "1      1  female        group C                some college      standard   \n",
            "2      2  female        group B             master's degree      standard   \n",
            "3      3    male        group A          associate's degree  free/reduced   \n",
            "4      4    male        group C                some college      standard   \n",
            "5      5  female        group B          associate's degree      standard   \n",
            "6      6  female        group B                some college      standard   \n",
            "7      7    male        group B                some college  free/reduced   \n",
            "8      8    male        group D                 high school  free/reduced   \n",
            "9      9  female        group B                 high school  free/reduced   \n",
            "\n",
            "  test preparation course   group  math score  reading score  writing score  \n",
            "0                    none  group1          72             72             74  \n",
            "1               completed  group1          69             90             88  \n",
            "2                    none  group1          90             95             93  \n",
            "3                    none  group1          47             57             44  \n",
            "4                    none  group1          76             78             75  \n",
            "5                    none  group1          71             83             78  \n",
            "6               completed  group1          88             95             92  \n",
            "7                    none  group1          40             43             39  \n",
            "8               completed  group1          64             64             67  \n",
            "9                    none  group1          38             60             50  \n"
          ]
        }
      ],
      "source": [
        "info = pd.read_csv(\"Data/Students_info_0.csv\")\n",
        "marks = pd.read_csv(\"Data/Students_marks_0.csv\")\n",
        "for i in range(1,10):\n",
        "  info = pd.concat([info, pd.read_csv(f\"Data/Students_info_{i}.csv\")])\n",
        "  marks = pd.concat([marks, pd.read_csv(f\"Data/Students_marks_{i}.csv\")])\n",
        "df = pd.merge(info, marks, on=[\"index\"])\n",
        "print(df.iloc[:10,:]) # First 10 rows.\n"
      ]
    },
    {
      "cell_type": "markdown",
      "metadata": {
        "_uuid": "8524af4cbd2f7b7810e8a3095a74c9fe1df7eafa",
        "id": "nZMvlgOmVKmA"
      },
      "source": [
        "#### Задание 2. Удалите столбец index у полученной таблицы. Напечатайте первые 10 строк таблицы."
      ]
    },
    {
      "cell_type": "code",
      "execution_count": 28,
      "metadata": {
        "_uuid": "fe62eee87b9b94ab923f57b55eaf0554612aa9e9",
        "id": "kzUYlQl-VKmA",
        "colab": {
          "base_uri": "https://localhost:8080/"
        },
        "outputId": "2773b6d4-34b7-48f7-cb0f-ff836451eca5"
      },
      "outputs": [
        {
          "output_type": "stream",
          "name": "stdout",
          "text": [
            "   gender race/ethnicity parental level of education         lunch  \\\n",
            "0  female        group B           bachelor's degree      standard   \n",
            "1  female        group C                some college      standard   \n",
            "2  female        group B             master's degree      standard   \n",
            "3    male        group A          associate's degree  free/reduced   \n",
            "4    male        group C                some college      standard   \n",
            "5  female        group B          associate's degree      standard   \n",
            "6  female        group B                some college      standard   \n",
            "7    male        group B                some college  free/reduced   \n",
            "8    male        group D                 high school  free/reduced   \n",
            "9  female        group B                 high school  free/reduced   \n",
            "\n",
            "  test preparation course   group  math score  reading score  writing score  \n",
            "0                    none  group1          72             72             74  \n",
            "1               completed  group1          69             90             88  \n",
            "2                    none  group1          90             95             93  \n",
            "3                    none  group1          47             57             44  \n",
            "4                    none  group1          76             78             75  \n",
            "5                    none  group1          71             83             78  \n",
            "6               completed  group1          88             95             92  \n",
            "7                    none  group1          40             43             39  \n",
            "8               completed  group1          64             64             67  \n",
            "9                    none  group1          38             60             50  \n"
          ]
        }
      ],
      "source": [
        "df = df.drop(columns='index') \n",
        "print(df.iloc[:10,:]) # First 10 rows."
      ]
    },
    {
      "cell_type": "markdown",
      "metadata": {
        "_uuid": "5fcd622942b7ecfc318934c6a245d3bb3bf01e84",
        "id": "KRVGFnJRVKmB"
      },
      "source": [
        "#### Задание 3. Выведите на экран размеры полученной таблицы"
      ]
    },
    {
      "cell_type": "code",
      "execution_count": 29,
      "metadata": {
        "_uuid": "16281cd7b4e941ebed8ca2e1b42f62f55d838684",
        "id": "s3Y8AnA5VKmB",
        "colab": {
          "base_uri": "https://localhost:8080/"
        },
        "outputId": "42e0d5b6-d207-4bf2-a696-be25bcff9ba3"
      },
      "outputs": [
        {
          "output_type": "stream",
          "name": "stdout",
          "text": [
            "Number of rows: 1000.\n",
            "Number of columns: 9.\n"
          ]
        }
      ],
      "source": [
        "print(f\"Number of rows: {df.shape[0]}.\\nNumber of columns: {df.shape[1]}.\")"
      ]
    },
    {
      "cell_type": "markdown",
      "metadata": {
        "_uuid": "fe8e3d58d29ca25dbbcf001392377643e6ff9a36",
        "id": "p77PT5mJVKmB"
      },
      "source": [
        "#### Задание 4. Выведите на экран статистические характеристики числовых столбцов таблицы (минимум, максимум, среднее значение, стандартное отклонение)"
      ]
    },
    {
      "cell_type": "code",
      "execution_count": 30,
      "metadata": {
        "_uuid": "e3d4bb80d2c4251fe517c24fcf08c5ff2d67b8aa",
        "id": "Gdo_ehgqVKmC",
        "colab": {
          "base_uri": "https://localhost:8080/"
        },
        "outputId": "2a3cba0a-7331-4407-dcab-ef021b008f44"
      },
      "outputs": [
        {
          "output_type": "stream",
          "name": "stdout",
          "text": [
            "Max:\n",
            "math score       100\n",
            "reading score    100\n",
            "writing score    100\n",
            "dtype: int64\n",
            "\n",
            "Min:\n",
            "math score        0\n",
            "reading score    17\n",
            "writing score    10\n",
            "dtype: int64\n",
            "\n",
            "Average:\n",
            "math score       66.089\n",
            "reading score    69.169\n",
            "writing score    68.054\n",
            "dtype: float64\n",
            "\n",
            "Deviation:\n",
            "math score       15.163080\n",
            "reading score    14.600192\n",
            "writing score    15.195657\n",
            "dtype: float64\n"
          ]
        }
      ],
      "source": [
        "print(f\"Max:\\n{df.select_dtypes(include='number').max()}\")\n",
        "print(f\"\\nMin:\\n{df.select_dtypes(include='number').min()}\")\n",
        "print(f\"\\nAverage:\\n{df.select_dtypes(include='number').mean()}\")\n",
        "print(f\"\\nDeviation:\\n{df.select_dtypes(include='number').std()}\")"
      ]
    },
    {
      "cell_type": "markdown",
      "metadata": {
        "_uuid": "b26b7de83485ecb3b8a0a7865a596e24527c7b2f",
        "id": "n-KonzY7VKmC"
      },
      "source": [
        "#### Задание 5. Проверьте, есть ли в таблице пропущенные значения"
      ]
    },
    {
      "cell_type": "code",
      "execution_count": 31,
      "metadata": {
        "_uuid": "4eac3f8f83d07c6e58ad1576fe0e773f37034a2f",
        "id": "mgvSRWt_VKmD",
        "colab": {
          "base_uri": "https://localhost:8080/"
        },
        "outputId": "092ea2e5-0137-40d7-ee03-1eaba6bccede"
      },
      "outputs": [
        {
          "output_type": "stream",
          "name": "stdout",
          "text": [
            "gender                         0\n",
            "race/ethnicity                 0\n",
            "parental level of education    0\n",
            "lunch                          0\n",
            "test preparation course        0\n",
            "group                          0\n",
            "math score                     0\n",
            "reading score                  0\n",
            "writing score                  0\n",
            "dtype: int64\n"
          ]
        }
      ],
      "source": [
        "print(df.isnull().sum()) # There are no missing values."
      ]
    },
    {
      "cell_type": "markdown",
      "metadata": {
        "id": "YQlRQXgDVKmD"
      },
      "source": [
        "#### Задание 6. Выведите на экран средние баллы студентов по каждому предмету (math, reading, writing)"
      ]
    },
    {
      "cell_type": "code",
      "execution_count": 32,
      "metadata": {
        "id": "TCi2L9rlVKmE",
        "colab": {
          "base_uri": "https://localhost:8080/"
        },
        "outputId": "9b997633-1665-42c7-9846-b9d523ee0116"
      },
      "outputs": [
        {
          "output_type": "stream",
          "name": "stdout",
          "text": [
            "0      72.666667\n",
            "1      82.333333\n",
            "2      92.666667\n",
            "3      49.333333\n",
            "4      76.333333\n",
            "         ...    \n",
            "995    94.000000\n",
            "996    57.333333\n",
            "997    65.000000\n",
            "998    74.333333\n",
            "999    83.000000\n",
            "Length: 1000, dtype: float64\n"
          ]
        }
      ],
      "source": [
        "print(df[['math score', 'reading score', 'writing score']].mean(axis=1))"
      ]
    },
    {
      "cell_type": "markdown",
      "metadata": {
        "id": "D-xG_yP4VKmE"
      },
      "source": [
        "**Задание 7. Как зависят оценки от того, проходил ли студент курс для подготовки к сдаче экзамена (test preparation course)? Выведите на экран для каждого предмета в отдельности средний балл студентов, проходивших курс для подготовки к экзамену и не проходивших курс.**"
      ]
    },
    {
      "cell_type": "code",
      "execution_count": 33,
      "metadata": {
        "id": "nPdvybPhVKmF",
        "colab": {
          "base_uri": "https://localhost:8080/"
        },
        "outputId": "fc8edc5a-2925-4ee8-e029-8b7ab2606719"
      },
      "outputs": [
        {
          "output_type": "stream",
          "name": "stdout",
          "text": [
            "Completed the course:\n",
            "math score       69.695531\n",
            "reading score    73.893855\n",
            "writing score    74.418994\n",
            "dtype: float64\n",
            "\n",
            "Not completed the course:\n",
            "math score       64.077882\n",
            "reading score    66.534268\n",
            "writing score    64.504673\n",
            "dtype: float64\n"
          ]
        },
        {
          "output_type": "stream",
          "name": "stderr",
          "text": [
            "<ipython-input-33-49a7d67d5510>:3: FutureWarning: Dropping of nuisance columns in DataFrame reductions (with 'numeric_only=None') is deprecated; in a future version this will raise TypeError.  Select only valid columns before calling the reduction.\n",
            "  print(f\"Completed the course:\\n{completed.mean()}\")\n",
            "<ipython-input-33-49a7d67d5510>:4: FutureWarning: Dropping of nuisance columns in DataFrame reductions (with 'numeric_only=None') is deprecated; in a future version this will raise TypeError.  Select only valid columns before calling the reduction.\n",
            "  print(f\"\\nNot completed the course:\\n{not_completed.mean()}\")\n"
          ]
        }
      ],
      "source": [
        "completed = df.loc[df['test preparation course'] == \"completed\"]\n",
        "not_completed = df.loc[df['test preparation course'] == \"none\"]\n",
        "print(f\"Completed the course:\\n{completed.mean()}\")\n",
        "print(f\"\\nNot completed the course:\\n{not_completed.mean()}\")\n",
        "# Those who attended the courses have better grades"
      ]
    },
    {
      "cell_type": "markdown",
      "metadata": {
        "id": "dP83HFP9VKmF"
      },
      "source": [
        "**Задание 8. Выведите на экран все различные значения из столбца lunch.**"
      ]
    },
    {
      "cell_type": "code",
      "execution_count": 34,
      "metadata": {
        "id": "3tN_QU5oVKmG",
        "colab": {
          "base_uri": "https://localhost:8080/"
        },
        "outputId": "ec9c42a4-77ee-433b-924d-f7699bd8c0ff"
      },
      "outputs": [
        {
          "output_type": "stream",
          "name": "stdout",
          "text": [
            "['standard' 'free/reduced']\n"
          ]
        }
      ],
      "source": [
        "print(df[\"lunch\"].unique())"
      ]
    },
    {
      "cell_type": "markdown",
      "metadata": {
        "id": "qw-1X1dMVKmG"
      },
      "source": [
        "**Задание 9. Переименуйте колонку \"parental level of education\" в \"education\", а \"test preparation course\" в \"test preparation\" с помощью метода pandas rename**\n",
        "https://pandas.pydata.org/pandas-docs/stable/reference/api/pandas.DataFrame.rename.html"
      ]
    },
    {
      "cell_type": "code",
      "execution_count": 35,
      "metadata": {
        "id": "HgiIP-FoVKmH",
        "colab": {
          "base_uri": "https://localhost:8080/"
        },
        "outputId": "e309c960-0ce7-4d9f-dc5d-d63da3489537"
      },
      "outputs": [
        {
          "output_type": "stream",
          "name": "stdout",
          "text": [
            "   gender race/ethnicity           education         lunch test preparation  \\\n",
            "0  female        group B   bachelor's degree      standard             none   \n",
            "1  female        group C        some college      standard        completed   \n",
            "2  female        group B     master's degree      standard             none   \n",
            "3    male        group A  associate's degree  free/reduced             none   \n",
            "4    male        group C        some college      standard             none   \n",
            "5  female        group B  associate's degree      standard             none   \n",
            "6  female        group B        some college      standard        completed   \n",
            "7    male        group B        some college  free/reduced             none   \n",
            "8    male        group D         high school  free/reduced        completed   \n",
            "9  female        group B         high school  free/reduced             none   \n",
            "\n",
            "    group  math score  reading score  writing score  \n",
            "0  group1          72             72             74  \n",
            "1  group1          69             90             88  \n",
            "2  group1          90             95             93  \n",
            "3  group1          47             57             44  \n",
            "4  group1          76             78             75  \n",
            "5  group1          71             83             78  \n",
            "6  group1          88             95             92  \n",
            "7  group1          40             43             39  \n",
            "8  group1          64             64             67  \n",
            "9  group1          38             60             50  \n"
          ]
        }
      ],
      "source": [
        "df = df.rename(columns={ \"parental level of education\":\"education\", \"test preparation course\":\"test preparation\" })\n",
        "print(df.iloc[:10,:]) # First 10 rows."
      ]
    },
    {
      "cell_type": "markdown",
      "metadata": {
        "id": "gV8GSVNIVKmI"
      },
      "source": [
        "**Зафиксируем минимальный балл для сдачи экзамена**"
      ]
    },
    {
      "cell_type": "code",
      "execution_count": 36,
      "metadata": {
        "id": "tj9Zy4AhVKmJ"
      },
      "outputs": [],
      "source": [
        "passmark = 50"
      ]
    },
    {
      "cell_type": "markdown",
      "metadata": {
        "id": "3zjlcbGJVKmK"
      },
      "source": [
        "**Задание 10. Ответьте на вопросы:**\n",
        "    * Какая доля студентов сдала экзамен по математике (passmark >= 50)?\n",
        "    * Какая доля студентов, проходивших курс подготовки к экзамену, сдала экзамен по математике?\n",
        "    * Какая доля женщин, не проходивших курс подготовки к экзамену, не сдала экзамен по математике? "
      ]
    },
    {
      "cell_type": "code",
      "execution_count": 37,
      "metadata": {
        "id": "BHs5ML72VKmL",
        "colab": {
          "base_uri": "https://localhost:8080/"
        },
        "outputId": "66a0faa1-0592-4986-85df-b836c7b47d2d"
      },
      "outputs": [
        {
          "output_type": "stream",
          "name": "stdout",
          "text": [
            "Students with math score >= passmark (from all students):0.865\n",
            "Students with math score >= passmark and with completed course (from students with completed course):0.9217877094972067\n",
            "Female with math score < passmark and without completed course (from female without completed course):0.20958083832335328\n"
          ]
        }
      ],
      "source": [
        "print(f\"Students with math score >= passmark (from all students):{df[df['math score'] >= passmark].shape[0]/df.shape[0]}\")\n",
        "print(f\"Students with math score >= passmark and with completed course (from students with completed course):{df[(df['math score'] >= passmark) & (df['test preparation']=='completed')].shape[0]/df[(df['test preparation']=='completed')].shape[0]}\")\n",
        "print(f\"Female with math score < passmark and without completed course (from female without completed course):{df[(df['math score'] < passmark) & (df['test preparation']=='none') & (df['gender']=='female')].shape[0]/df[(df['test preparation']=='none') & (df['gender']=='female')].shape[0]}\")"
      ]
    },
    {
      "cell_type": "markdown",
      "metadata": {
        "id": "h9SMNLHKVKmL"
      },
      "source": [
        "**Задание 11. С помощью groupby выполните задания ниже. Также выведите время выполнения каждого из заданий.**\n",
        "    * Для каждой этнической группы выведите средний балл за экзамен по чтению\n",
        "    * Для каждого уровня образования выведите минимальный балл за экзамен по письму"
      ]
    },
    {
      "cell_type": "code",
      "execution_count": 38,
      "metadata": {
        "id": "oHMeDKCNVKmM",
        "colab": {
          "base_uri": "https://localhost:8080/"
        },
        "outputId": "9459fe7e-251b-4a61-b7e9-db22e053a158"
      },
      "outputs": [
        {
          "output_type": "stream",
          "name": "stdout",
          "text": [
            "                mean reading score\n",
            "race/ethnicity                    \n",
            "group A                  64.674157\n",
            "group B                  67.352632\n",
            "group C                  69.103448\n",
            "group D                  70.030534\n",
            "group E                  73.028571\n",
            "\n",
            "\n",
            "                    min writing score\n",
            "education                            \n",
            "associate's degree                 35\n",
            "bachelor's degree                  38\n",
            "high school                        15\n",
            "master's degree                    46\n",
            "some college                       19\n",
            "some high school                   10\n",
            "CPU times: user 16 ms, sys: 0 ns, total: 16 ms\n",
            "Wall time: 18.1 ms\n"
          ]
        }
      ],
      "source": [
        "%%time\n",
        "print(df[['race/ethnicity', 'reading score']].groupby(['race/ethnicity']).mean().rename(columns={ \"reading score\":\"mean reading score\"}))\n",
        "print('\\n')\n",
        "print(df[['education', 'writing score']].groupby(['education']).min().rename(columns={ \"writing score\":\"min writing score\"}))"
      ]
    },
    {
      "cell_type": "markdown",
      "metadata": {
        "id": "feqSq1qXVKmM"
      },
      "source": [
        "**Задание 12. Выполните задание 11 с помощью циклов. Сравните время выполнения.**"
      ]
    },
    {
      "cell_type": "code",
      "execution_count": 39,
      "metadata": {
        "id": "lz6OhjH_VKmN",
        "colab": {
          "base_uri": "https://localhost:8080/"
        },
        "outputId": "fb175543-04ce-496b-dbd4-f166453402d9"
      },
      "outputs": [
        {
          "output_type": "stream",
          "name": "stdout",
          "text": [
            "  race/ethnicity  mean reading score\n",
            "0        group A           64.674157\n",
            "1        group B           67.352632\n",
            "2        group C           69.103448\n",
            "3        group D           70.030534\n",
            "4        group E           73.028571\n",
            "\n",
            "           education   min writing score\n",
            "0  associate's degree                 35\n",
            "1   bachelor's degree                 38\n",
            "2         high school                 15\n",
            "3     master's degree                 46\n",
            "4        some college                 19\n",
            "5    some high school                 10\n",
            "CPU times: user 187 ms, sys: 9 µs, total: 187 ms\n",
            "Wall time: 245 ms\n"
          ]
        }
      ],
      "source": [
        "%%time\n",
        "race_mean= dict.fromkeys(sorted(df['race/ethnicity'].unique()), 0)\n",
        "for index, row in df.iterrows():\n",
        "  race_mean[row['race/ethnicity']] += row['reading score']\n",
        "for key in race_mean:\n",
        "  race_mean[key] /= df[df['race/ethnicity']==key].shape[0]\n",
        "race_table=pd.DataFrame(race_mean.items(), columns=['race/ethnicity','mean reading score'])\n",
        "print(race_table)\n",
        "\n",
        "print()\n",
        "education_min = dict.fromkeys(sorted(df['education'].unique()), 10000000)\n",
        "for index, row in df.iterrows():\n",
        "  education_min[row['education']] = min(row['writing score'] ,education_min[row['education']])\n",
        "education_table = pd.DataFrame(education_min.items(), columns=['education ','min writing score'])\n",
        "print(education_table)\n",
        "# It takes 8 times longer."
      ]
    },
    {
      "cell_type": "markdown",
      "metadata": {
        "id": "4TSCL-BwVKmN"
      },
      "source": [
        "**Задание 13. Выведите на экран средние баллы студентов по каждому предмету в зависимости от пола и уровня образования. То есть должно получиться количество групп, равных 2 * (число уровней образования), и для каждой такой группы выыведите средний балл по каждому из предметов.**\n",
        "\n",
        "Это можно сделать с помощью сводных таблиц (pivot_table):\n",
        "\n",
        "https://www.kaggle.com/kamilpolak/tutorial-how-to-use-pivot-table-in-pandas"
      ]
    },
    {
      "cell_type": "code",
      "execution_count": 47,
      "metadata": {
        "id": "QRONtZ0nVKmN",
        "colab": {
          "base_uri": "https://localhost:8080/"
        },
        "outputId": "183b3581-fe81-4cee-b354-a44a5ee8eb7b"
      },
      "outputs": [
        {
          "output_type": "stream",
          "name": "stdout",
          "text": [
            "                           mean math score  mean reading score  \\\n",
            "gender education                                                 \n",
            "female associate's degree        65.250000           74.120690   \n",
            "       bachelor's degree         68.349206           77.285714   \n",
            "       high school               59.351064           68.202128   \n",
            "       master's degree           66.500000           76.805556   \n",
            "       some college              65.406780           73.550847   \n",
            "       some high school          59.296703           69.109890   \n",
            "male   associate's degree        70.764151           67.433962   \n",
            "       bachelor's degree         70.581818           68.090909   \n",
            "       high school               64.705882           61.480392   \n",
            "       master's degree           74.826087           73.130435   \n",
            "       some college              69.009259           64.990741   \n",
            "       some high school          67.840909           64.693182   \n",
            "\n",
            "                           mean writing score  \n",
            "gender education                               \n",
            "female associate's degree           74.000000  \n",
            "       bachelor's degree            78.380952  \n",
            "       high school                  66.691489  \n",
            "       master's degree              77.638889  \n",
            "       some college                 74.050847  \n",
            "       some high school             68.285714  \n",
            "male   associate's degree           65.405660  \n",
            "       bachelor's degree            67.654545  \n",
            "       high school                  58.539216  \n",
            "       master's degree              72.608696  \n",
            "       some college                 63.148148  \n",
            "       some high school             61.375000  \n",
            "CPU times: user 12.6 ms, sys: 0 ns, total: 12.6 ms\n",
            "Wall time: 14.3 ms\n"
          ]
        }
      ],
      "source": [
        "%%time\n",
        "print(df[['gender','education','math score','reading score','writing score']].groupby(['gender','education']).mean().rename(columns={ \"math score\":\"mean math score\",\"reading score\":\"mean reading score\",\"writing score\":\"mean writing score\"}))"
      ]
    },
    {
      "cell_type": "markdown",
      "metadata": {
        "_uuid": "3e832cb427c4314582d1953a41b8c78db75e30e3",
        "id": "MIwdQo7XVKmO"
      },
      "source": [
        "#### Задание 14. Сколько студентов успешно сдали экзамен по математике?\n",
        "\n",
        "Создайте новый столбец в таблице df под названием Math_PassStatus и запишите в него F, если студент не сдал экзамен по математике (балл за экзамен < passmark), и P иначе.\n",
        "\n",
        "Посчитайте количество студентов, сдавших и не сдавших экзамен по математике.\n",
        "\n",
        "Сделайте аналогичные шаги для экзаменов по чтению и письму."
      ]
    },
    {
      "cell_type": "code",
      "execution_count": 41,
      "metadata": {
        "_uuid": "f43cddb72cc96b30df84bc0de83a4d9170904340",
        "id": "cHpOFX0nVKmO",
        "colab": {
          "base_uri": "https://localhost:8080/"
        },
        "outputId": "311b5ef2-3f01-4cfc-c763-5796733396c5"
      },
      "outputs": [
        {
          "output_type": "stream",
          "name": "stdout",
          "text": [
            "Math -> P: 865, F: 135\n",
            "Reading -> P: 910, F: 90\n",
            "Writing -> P: 886, F: 114\n",
            "\n",
            "   gender race/ethnicity           education         lunch test preparation  \\\n",
            "0  female        group B   bachelor's degree      standard             none   \n",
            "1  female        group C        some college      standard        completed   \n",
            "2  female        group B     master's degree      standard             none   \n",
            "3    male        group A  associate's degree  free/reduced             none   \n",
            "4    male        group C        some college      standard             none   \n",
            "5  female        group B  associate's degree      standard             none   \n",
            "6  female        group B        some college      standard        completed   \n",
            "7    male        group B        some college  free/reduced             none   \n",
            "8    male        group D         high school  free/reduced        completed   \n",
            "9  female        group B         high school  free/reduced             none   \n",
            "\n",
            "    group  math score  reading score  writing score Math_PassStatus  \\\n",
            "0  group1          72             72             74               P   \n",
            "1  group1          69             90             88               P   \n",
            "2  group1          90             95             93               P   \n",
            "3  group1          47             57             44               F   \n",
            "4  group1          76             78             75               P   \n",
            "5  group1          71             83             78               P   \n",
            "6  group1          88             95             92               P   \n",
            "7  group1          40             43             39               F   \n",
            "8  group1          64             64             67               P   \n",
            "9  group1          38             60             50               F   \n",
            "\n",
            "  Reading_PassStatus Writing_PassStatus  \n",
            "0                  P                  P  \n",
            "1                  P                  P  \n",
            "2                  P                  P  \n",
            "3                  P                  F  \n",
            "4                  P                  P  \n",
            "5                  P                  P  \n",
            "6                  P                  P  \n",
            "7                  F                  F  \n",
            "8                  P                  P  \n",
            "9                  P                  P  \n"
          ]
        }
      ],
      "source": [
        "df['Math_PassStatus'] = df['math score'].apply(lambda x: 'P' if x >= passmark else 'F')\n",
        "df['Reading_PassStatus'] = df['reading score'].apply(lambda x: 'P' if x >= passmark else 'F')\n",
        "df['Writing_PassStatus'] = df['writing score'].apply(lambda x: 'P' if x >= passmark else 'F')\n",
        "print(f\"Math -> P: {df[df['Math_PassStatus']=='P'].shape[0]}, F: {df[df['Math_PassStatus']=='F'].shape[0]}\")\n",
        "print(f\"Reading -> P: {df[df['Reading_PassStatus']=='P'].shape[0]}, F: {df[df['Reading_PassStatus']=='F'].shape[0]}\")\n",
        "print(f\"Writing -> P: {df[df['Writing_PassStatus']=='P'].shape[0]}, F: {df[df['Writing_PassStatus']=='F'].shape[0]}\\n\")\n",
        "print(df.iloc[:10,:]) # First 10 rows."
      ]
    },
    {
      "cell_type": "markdown",
      "metadata": {
        "_uuid": "b753c90914ee65501e2ed263ea614d88a381c472",
        "id": "zbBiiRhXVKmP"
      },
      "source": [
        "#### Задание 15. Сколько студентов успешно сдали все экзамены?\n",
        "\n",
        "Создайте столбец OverAll_PassStatus и запишите в него для каждого студента 'F', если студент не сдал хотя бы один из трех экзаменов, а иначе 'P'.\n",
        "\n",
        "Посчитайте количество студентов, которые сдали все экзамены."
      ]
    },
    {
      "cell_type": "code",
      "execution_count": 42,
      "metadata": {
        "_uuid": "e98f895a022b967cab801447b616222439fe9d84",
        "id": "jD8BlsUoVKmP",
        "colab": {
          "base_uri": "https://localhost:8080/"
        },
        "outputId": "35153fed-d186-4576-d411-954ac75f998d"
      },
      "outputs": [
        {
          "output_type": "stream",
          "name": "stdout",
          "text": [
            "Over all -> P: 812\n",
            "\n",
            "   gender race/ethnicity           education         lunch test preparation  \\\n",
            "0  female        group B   bachelor's degree      standard             none   \n",
            "1  female        group C        some college      standard        completed   \n",
            "2  female        group B     master's degree      standard             none   \n",
            "3    male        group A  associate's degree  free/reduced             none   \n",
            "4    male        group C        some college      standard             none   \n",
            "5  female        group B  associate's degree      standard             none   \n",
            "6  female        group B        some college      standard        completed   \n",
            "7    male        group B        some college  free/reduced             none   \n",
            "8    male        group D         high school  free/reduced        completed   \n",
            "9  female        group B         high school  free/reduced             none   \n",
            "\n",
            "    group  math score  reading score  writing score Math_PassStatus  \\\n",
            "0  group1          72             72             74               P   \n",
            "1  group1          69             90             88               P   \n",
            "2  group1          90             95             93               P   \n",
            "3  group1          47             57             44               F   \n",
            "4  group1          76             78             75               P   \n",
            "5  group1          71             83             78               P   \n",
            "6  group1          88             95             92               P   \n",
            "7  group1          40             43             39               F   \n",
            "8  group1          64             64             67               P   \n",
            "9  group1          38             60             50               F   \n",
            "\n",
            "  Reading_PassStatus Writing_PassStatus OverAll_PassStatus  \n",
            "0                  P                  P                  P  \n",
            "1                  P                  P                  P  \n",
            "2                  P                  P                  P  \n",
            "3                  P                  F                  F  \n",
            "4                  P                  P                  P  \n",
            "5                  P                  P                  P  \n",
            "6                  P                  P                  P  \n",
            "7                  F                  F                  F  \n",
            "8                  P                  P                  P  \n",
            "9                  P                  P                  F  \n"
          ]
        }
      ],
      "source": [
        "df['OverAll_PassStatus'] = ((df['Math_PassStatus'] == 'P') & (df['Reading_PassStatus'] == 'P') & (df['Writing_PassStatus'] == 'P')).apply(lambda x: 'P' if x else 'F')\n",
        "print(f\"Over all -> P: {df[df['OverAll_PassStatus']=='P'].shape[0]}\\n\")\n",
        "print(df.iloc[:10,:]) # First 10 rows."
      ]
    },
    {
      "cell_type": "markdown",
      "metadata": {
        "_uuid": "3af9c6cb4cbfff66d4ae09509f10b8b6ce33075d",
        "id": "n6Mk8fMrVKmQ"
      },
      "source": [
        "#### Задание 16. Переведем баллы в оценки\n",
        "\n",
        "### Система перевода баллов в оценки\n",
        "####    больше 90 = A\n",
        "####      80-90 = B\n",
        "####      70-80 = C\n",
        "####      60-70 = D\n",
        "####      50-60 = E\n",
        "####    меньше 50 = F (Fail)\n",
        "\n",
        "Создайте вспомогательную функцию, которая будет по среднему баллу за три экзамена выставлять оценку студенту по данным выше критериям.\n",
        "\n",
        "Создайте столбец Grade и запишите в него оценку каждого студента.\n",
        "\n",
        "Выведите количество студентов, получивших каждую из оценок.\n",
        "\n",
        "**В случае, если средний балл попадает на границу между оценками (т.е. равен ровно 60, 70 или 80 баллов), вы можете интерпретировать условие на своё усмотрение (т.е. можете поставить за 60 баллов оценку D, а можете - E).**"
      ]
    },
    {
      "cell_type": "code",
      "execution_count": 53,
      "metadata": {
        "_uuid": "04707c5be4237020b906d2ac705a0db3d620506f",
        "id": "Rno0V405VKmQ",
        "colab": {
          "base_uri": "https://localhost:8080/"
        },
        "outputId": "ae71d119-7602-47a1-91d2-9a08e7530904"
      },
      "outputs": [
        {
          "output_type": "stream",
          "name": "stdout",
          "text": [
            "A: 50\n",
            "B: 144\n",
            "C: 253\n",
            "D: 260\n",
            "E: 184\n",
            "F: 109\n",
            "\n",
            "   gender race/ethnicity           education         lunch test preparation  \\\n",
            "0  female        group B   bachelor's degree      standard             none   \n",
            "1  female        group C        some college      standard        completed   \n",
            "2  female        group B     master's degree      standard             none   \n",
            "3    male        group A  associate's degree  free/reduced             none   \n",
            "4    male        group C        some college      standard             none   \n",
            "5  female        group B  associate's degree      standard             none   \n",
            "6  female        group B        some college      standard        completed   \n",
            "7    male        group B        some college  free/reduced             none   \n",
            "8    male        group D         high school  free/reduced        completed   \n",
            "9  female        group B         high school  free/reduced             none   \n",
            "\n",
            "    group  math score  reading score  writing score Math_PassStatus  \\\n",
            "0  group1          72             72             74               P   \n",
            "1  group1          69             90             88               P   \n",
            "2  group1          90             95             93               P   \n",
            "3  group1          47             57             44               F   \n",
            "4  group1          76             78             75               P   \n",
            "5  group1          71             83             78               P   \n",
            "6  group1          88             95             92               P   \n",
            "7  group1          40             43             39               F   \n",
            "8  group1          64             64             67               P   \n",
            "9  group1          38             60             50               F   \n",
            "\n",
            "  Reading_PassStatus Writing_PassStatus OverAll_PassStatus Grade  \n",
            "0                  P                  P                  P     C  \n",
            "1                  P                  P                  P     B  \n",
            "2                  P                  P                  P     A  \n",
            "3                  P                  F                  F     F  \n",
            "4                  P                  P                  P     C  \n",
            "5                  P                  P                  P     C  \n",
            "6                  P                  P                  P     A  \n",
            "7                  F                  F                  F     F  \n",
            "8                  P                  P                  P     D  \n",
            "9                  P                  P                  F     F  \n"
          ]
        }
      ],
      "source": [
        "def GetGrade(average_mark):\n",
        "    if(average_mark > 90):\n",
        "      return 'A';\n",
        "    elif(average_mark > 80):\n",
        "      return 'B';  \n",
        "    elif(average_mark > 70):\n",
        "      return 'C';  \n",
        "    elif(average_mark > 60):\n",
        "      return 'D';  \n",
        "    elif(average_mark > 50):\n",
        "      return 'E';  \n",
        "    else:\n",
        "      return 'F';  \n",
        "\n",
        "df['Grade']=df[['math score', 'reading score', 'writing score']].mean(axis=1).apply(GetGrade)\n",
        "print(f\"A: {(df['Grade'] == 'A').sum()}\")\n",
        "print(f\"B: {(df['Grade'] == 'B').sum()}\")\n",
        "print(f\"C: {(df['Grade'] == 'C').sum()}\")\n",
        "print(f\"D: {(df['Grade'] == 'D').sum()}\")\n",
        "print(f\"E: {(df['Grade'] == 'E').sum()}\")\n",
        "print(f\"F: {(df['Grade'] == 'F').sum()}\\n\")\n",
        "print(df.iloc[:10,:]) # First 10 rows."
      ]
    }
  ],
  "metadata": {
    "kernelspec": {
      "display_name": "Python 3 (ipykernel)",
      "language": "python",
      "name": "python3"
    },
    "language_info": {
      "codemirror_mode": {
        "name": "ipython",
        "version": 3
      },
      "file_extension": ".py",
      "mimetype": "text/x-python",
      "name": "python",
      "nbconvert_exporter": "python",
      "pygments_lexer": "ipython3",
      "version": "3.7.9"
    },
    "colab": {
      "provenance": []
    }
  },
  "nbformat": 4,
  "nbformat_minor": 0
}